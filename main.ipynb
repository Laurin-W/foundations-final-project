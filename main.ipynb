{
  "cells": [
    {
      "cell_type": "markdown",
      "metadata": {},
      "source": [
        "# Foundations of CSS Final Group Project: *Question Goes Here*"
      ]
    },
    {
      "cell_type": "markdown",
      "metadata": {},
      "source": [
        "TODO: Add link to research poster and report"
      ]
    },
    {
      "cell_type": "markdown",
      "metadata": {},
      "source": [
        "## Prerequisits"
      ]
    },
    {
      "cell_type": "markdown",
      "metadata": {},
      "source": [
        "### Install Dependencies"
      ]
    },
    {
      "cell_type": "code",
      "execution_count": 87,
      "metadata": {},
      "outputs": [],
      "source": [
        "# !pip install pyreadstat pandas numpy matplotlib wbgapi pycaret"
      ]
    },
    {
      "cell_type": "markdown",
      "metadata": {},
      "source": [
        "### Import Libraries"
      ]
    },
    {
      "cell_type": "code",
      "execution_count": 88,
      "metadata": {},
      "outputs": [],
      "source": [
        "import pandas as pd\n",
        "import numpy as np\n",
        "import matplotlib.pylab as plt\n",
        "import zipfile\n",
        "import shutil\n",
        "import re\n",
        "import wbgapi as wb"
      ]
    },
    {
      "cell_type": "markdown",
      "metadata": {},
      "source": [
        "### Decompress Data"
      ]
    },
    {
      "cell_type": "code",
      "execution_count": 89,
      "metadata": {},
      "outputs": [],
      "source": [
        "with zipfile.ZipFile(\"data.zip\", \"r\") as zip_ref:\n",
        "    zip_ref.extractall(\"data\")\n",
        " \n",
        "# For data changes, re-zip data to zip file with python:\n",
        "# shutil.make_archive(\"data\", 'zip', \"data\")\n",
        "# or in the shell with command `zip data.zip data/ -9 -r` (linux)\n"
      ]
    },
    {
      "cell_type": "markdown",
      "metadata": {},
      "source": [
        "### Load and Prepare Data"
      ]
    },
    {
      "cell_type": "markdown",
      "metadata": {},
      "source": [
        "#### Attitudes Data"
      ]
    },
    {
      "cell_type": "markdown",
      "metadata": {},
      "source": [
        "\n",
        "International Social Survey Programme: Environment I-IV Cumulation. \\\n",
        "ISSP Research Group (2024) \\\n",
        "GESIS, Cologne. \\\n",
        "ZA8793 Data file Version 1.0.0 \\\n",
        "https://doi.org/10.4232/1.14332\n",
        "\n",
        "See [terms of use](https://www.gesis.org/fileadmin/upload/dienstleistung/daten/umfragedaten/_bgordnung_bestellen/2023-06-30_Nutzungsbedingungen.pdf) (category A) for more information.\n",
        "\n",
        "The survey data is used in [Long-run trends in partisan polarization of climate policy-relevant attitudes across countries](https://doi.org/10.1080/09644016.2024.2403957) as well which we partly reproduce here."
      ]
    },
    {
      "cell_type": "code",
      "execution_count": 90,
      "metadata": {},
      "outputs": [],
      "source": [
        "survey_data_raw_df = pd.read_stata(\"data/ZA8793_v1-0-0_survey.dta\")"
      ]
    },
    {
      "cell_type": "markdown",
      "metadata": {},
      "source": [
        "There are 145 columns in the dataset.\n",
        "In the following, we make a selection of relevant ones\n",
        "and additionally group certain questions into\n",
        "\"support for public\" vs \"support for individual\" action."
      ]
    },
    {
      "cell_type": "code",
      "execution_count": 91,
      "metadata": {},
      "outputs": [],
      "source": [
        "# Define mapping functions to support getting survey data in usable format\n",
        "\n",
        "def extract_integer(x: str | int | float):\n",
        "    if (type(x) == int): return x\n",
        "    if (type(x) == float): return int(x)\n",
        "\n",
        "    return int(x.split('.')[0]) # assuming format like 2. agree somewhat\n",
        "\n",
        "# The below functions are helpers to make mapping the liker-scale responses (1.-5. (agree or disagree) or 1-4).\n",
        "# The responses are stretched to values between -2 and 2.\n",
        "# See in the next cell how it's used.\n",
        "def likert_scale_to_float(input: str | int | float, invert: bool, shift: float):\n",
        "    int_val = extract_integer(input)\n",
        "    if int_val < 0:\n",
        "        return np.nan;\n",
        "    else:\n",
        "        return float(int_val) + shift if invert == False else (float(int_val) + shift) * -1\n",
        "\n",
        "def likert_scale_to_float_5(input):\n",
        "    return likert_scale_to_float(input, invert=False, shift=-3)\n",
        "\n",
        "def likert_scale_to_float_invert_5(input):\n",
        "    return likert_scale_to_float(input, invert=True, shift=-3)\n",
        "\n",
        "def likert_scale_to_float_invert_4(input, shift=-2.5):\n",
        "    return likert_scale_to_float(input, invert=True, shift=shift) * 2/3\n",
        "\n",
        "def likert_scale_to_float_4(input, invert=False):\n",
        "    return likert_scale_to_float(input, invert, shift=-2.5) * 2/3\n"
      ]
    },
    {
      "cell_type": "code",
      "execution_count": 92,
      "metadata": {},
      "outputs": [],
      "source": [
        "# Comments beginning with letters (abcd) indicate which study have the question, if not all (1993, 2000, 2010, 2020).\n",
        "# Some mapping comments contain the exact question asked in the survey.\n",
        "# Detailed explanation of variables can be found here: https://search.gesis.org/research_data/ZA8793#variables|exploredata-ZA8793_VarWRKHRS|0|variable_order|asc\n",
        "\n",
        "# The below mapping is used to rename the original column names\n",
        "# and define functions to convert the columns, if necessary.\n",
        "# Not all of the dataset's questions are mapped (and kept).\n",
        "# Those are all that seemed vaguely interesting\n",
        "# but for the main analysis we only consider a subset.\n",
        "mapping = {\n",
        "  \"cumu_id\": {  \"name\": 'id',\n",
        "                \"mapper\": int },\n",
        "  \"year\": {     \"name\": 'year',\n",
        "                \"mapper\": extract_integer },\n",
        "  \"country\": {  \"name\": 'country_iso2',\n",
        "                \"mapper\": lambda country: re.search(r'^\\d+\\. ([A-Z]+)-', country).group(1) },\n",
        "  \"AGE\": {      \"name\": 'age',\n",
        "                \"mapper\": extract_integer },\n",
        "  \"SEX\": {      \"name\": 'sex',\n",
        "                \"mapper\": None },\n",
        "  \"EDUCYRS\": {  \"name\": 'education_years',\n",
        "                \"mapper\": lambda year: extract_integer(year) if extract_integer(year) < 30 else -2 },\n",
        "  'MARITAL': {  \"name\": 'marital_status',\n",
        "                \"mapper\": None },\n",
        "  \"COHAB\": {    \"name\": 'steady_life_partner',\n",
        "                \"mapper\": None },\n",
        "  \"DEGREE\": {   \"name\": 'highest_degree',\n",
        "                \"mapper\": None },\n",
        "  \"WORK\": {     \"name\": 'work_currently_former_never',\n",
        "                \"mapper\": None },\n",
        "  \"WRKHRS\": {   \"name\": 'weekly_work_hours',\n",
        "                \"mapper\": extract_integer },\n",
        "  \"EMPREL\": {   \"name\": 'self_employed',\n",
        "                \"mapper\": None },\n",
        "  \"WRKSUP\": {   \"name\": 'work_supervises',\n",
        "                \"mapper\": None },\n",
        "  \"ISCO08\": {   \"name\": 'work_type_isco',\n",
        "                \"mapper\": None },\n",
        "  \"MAINSTAT\": { \"name\": 'employed_self_not',\n",
        "                \"mapper\": None },\n",
        "  \"UNION\": {    \"name\": 'work_member_of_union',\n",
        "                \"mapper\": None },\n",
        "  \"HOMPOP\": {   \"name\": 'household_size',\n",
        "                \"mapper\": None },\n",
        "  \"CHILDHH\": {  \"name\": 'children_in_household',\n",
        "                \"mapper\": None },\n",
        "  \"PARTY_LR1\": {\"name\": 'party_lef_right_derived',\n",
        "                \"mapper\": None },\n",
        "  \"PARTY_LR2\": {\"name\": 'party_lef_right_asked',\n",
        "                \"mapper\": None },\n",
        "  \"VOTE_LE\": {  \"name\": 'party_did_vote',\n",
        "                \"mapper\": None },\n",
        "  \"URBRURAL\": { \"name\": 'urban_or_rural',\n",
        "                \"mapper\": None }, # Would you describe the place where you live as…\n",
        "  \"INCOME\": {   \"name\": 'income_relative',\n",
        "                \"mapper\": None },\n",
        "  \"WEIGHT\": {   \"name\": 'regional_weight_factor',\n",
        "                \"mapper\": lambda w: 1 if w == \"1. No weighting\" else w },\n",
        "\n",
        "  \"v5\": {       \"name\": 'most_important_env_problem',\n",
        "                \"mapper\": None }, # cd\n",
        "  \"v8\": {       \"name\": 'trust_most',\n",
        "                \"mapper\": None },  # cd\n",
        "  \"v9\": {       \"name\": 'believe_too_often_in_science',\n",
        "                \"mapper\": None }, # abc\n",
        "  \"v10\": {      \"name\": 'science_more_harm_than_good',\n",
        "                \"mapper\": None }, # abc\n",
        "  \"v11\": {      \"name\": 'science_solves_env_problems',\n",
        "                \"mapper\": likert_scale_to_float_invert_5 },\n",
        "  \"v12\": {      \"name\": 'worry_too_much_about_env_not_prices_jobs',\n",
        "                \"mapper\": None },\n",
        "  \"v13\": {      \"name\": 'modern_life_harms_env',\n",
        "                \"mapper\": likert_scale_to_float_5 },\n",
        "  \"v14\": {      \"name\": 'ppl_worry_too_much_progress_harms_env', \n",
        "                \"mapper\": likert_scale_to_float_5 }, # People worry too much about human progress harming the environment.\n",
        "  \"v15\": {      \"name\": 'env_needs_econ_growth',\n",
        "                \"mapper\": likert_scale_to_float_5 }, # In order to protect the environment [COUNTRY] needs economic growth.\n",
        "  \"v17\": {      \"name\": 'econ_growth_harms_env',\n",
        "                \"mapper\": likert_scale_to_float_5 },\n",
        "  \"v18\": {      \"name\": 'population_growth_unsustainable',\n",
        "                \"mapper\": likert_scale_to_float_5 },\n",
        "  \"v20\": {      \"name\": 'support_indiv_pay_more',\n",
        "                \"mapper\":  likert_scale_to_float_invert_5},\n",
        "  \"v21\": {      \"name\": 'support_pay_higher_taxes',\n",
        "                \"mapper\": likert_scale_to_float_invert_5 },\n",
        "  \"v22\": {      \"name\": 'support_cut_living_standards',\n",
        "                \"mapper\": likert_scale_to_float_invert_5 },\n",
        "  \"v23\": {      \"name\": 'indiv_action_too_difficult',\n",
        "                \"mapper\": likert_scale_to_float_invert_5 }, # It is just too difficult for someone like me to do much about the environment.\n",
        "  \"v24\": {      \"name\": 'indiv_support_sacrifice',\n",
        "                \"mapper\": likert_scale_to_float_invert_5 }, # I do what is right for the environment, even when it costs more money or takes more time.\n",
        "  \"v25\": {      \"name\": 'indiv_less_important',\n",
        "                \"mapper\": None }, # There are more important things to do in life than protect the environment.\n",
        "  \"v26\": {      \"name\": 'support_only_with_others',\n",
        "                \"mapper\": likert_scale_to_float_5 }, # bcd; There is no point in doing what I can for the environment unless others do the same.\n",
        "  \"v27\": {      \"name\": 'threats_exaggerated',\n",
        "                \"mapper\": likert_scale_to_float_invert_5 }, # bcd\n",
        "  \"v28\": {      \"name\": 'hard_to_know_right_wrong',\n",
        "                \"mapper\": None }, # cd; I find it hard to know whether the way I live is helpful or harmful to the environment.\n",
        "  \"v33\": {      \"name\": 'climate_change_no_hole_atmosphere',\n",
        "                \"mapper\": likert_scale_to_float_4 }, # abc, Climate change [/ greenhouse effect] is caused by a hole in the earth's atmosphere. (afterwards inverted)\n",
        "  \"v34\": {      \"name\": 'climate_change_oil_gas',\n",
        "                \"mapper\": likert_scale_to_float_invert_4 }, # abc, Every time we use coal or oil or gas, we contribute to climate change [/ greenhouse effect].\n",
        "  \"v35\": {      \"name\": 'env_problems_everyday_life',\n",
        "                \"mapper\": likert_scale_to_float_invert_5 }, # cd\n",
        "  \"v36\": {      \"name\": 'car_air_poll_danger_env',\n",
        "                \"mapper\": likert_scale_to_float_invert_5 }, # Air pollution caused by cars is (dangerous/ not dangerous) for environment\n",
        "  \"v37\": {      \"name\": 'car_air_poll_danger_indiv',\n",
        "                \"mapper\": likert_scale_to_float_invert_5 }, # Air pollution caused by cars is (dangerous/ not dangerous) for you and your family\n",
        "  \"v39\": {      \"name\": 'industry_air_poll_danger_env',\n",
        "                \"mapper\": likert_scale_to_float_invert_5 }, # In general, do you think that air pollution caused by industry is (dangerous/ not dangerous)\n",
        "  \"v42\": {      \"name\": 'temp_rise_danger_env',\n",
        "                \"mapper\": likert_scale_to_float_invert_5 }, # bcd In general, do you think that a rise in the world's temperature caused by climate change is (dangerous/ not dangerous)\n",
        "  \"v44\": {      \"name\": 'gov_laws_not_indiv',\n",
        "                \"mapper\": lambda val: 1 if extract_integer(val) == 2 else 0 }, # abc Government or ordinary people: decide themselves how to protect environment (2 = government)\n",
        "  \"v45\": {      \"name\": 'gov_laws_not_business',\n",
        "                \"mapper\": lambda val: 1 if extract_integer(val) == 2 else 0 }, # abc Government or business: decide themselves how to protect environment\n",
        "  \"v47\": {      \"name\": 'internation_agreement_support',\n",
        "                \"mapper\": likert_scale_to_float_invert_5 }, # bc\n",
        "  \"v50\": {      \"name\": 'gov_force_business',\n",
        "                \"mapper\": lambda val: 1 if val.startswith('1. Heavy fines') or val.startswith('2. Use the tax system') else 0 }, # cd Which of these approaches do you think would be the best way of getting business and industry in [COUNTRY] to protect the environment?\n",
        "  \"v50_2\": {      \"name\": 'gov_voluntary_business',\n",
        "                \"mapper\": lambda val: 1 if val.startswith('3. More information and education') else 0 }, # cd Which of these approaches do you think would be the best way of getting business and industry in [COUNTRY] to protect the environment?\n",
        "  \"v51\": {      \"name\": 'gov_force_indiv',\n",
        "                \"mapper\": lambda val: 1 if val.startswith('1. Heavy fines') or val.startswith('2. Use the tax system') else 0 }, # cd Which of these approaches do you think would be the best way of getting people and their families in [COUNTRY] to protect the environment?\n",
        "  \"v51_2\": {      \"name\": 'gov_voluntary_indiv',\n",
        "                \"mapper\": lambda val: 1 if val.startswith('3. More information and education') else 0 }, # cd Which of these approaches do you think would be the best way of getting people and their families in [COUNTRY] to protect the environment?\n",
        "  \"v52\": {      \"name\": 'indiv_avoid_buying',\n",
        "                \"mapper\": lambda val: likert_scale_to_float_invert_5(val) + 2 }, # cd And how often do you avoid buying certain products for environmental reasons?\n",
        "  \"v53\": {      \"name\": 'indiv_sort_waste',\n",
        "                \"mapper\": lambda val: likert_scale_to_float_invert_5(val) + 2 }, # ac How often do you make a special effort to sort glass or tins or plastic or newspapers and so on for recycling?\n",
        "  \"v54\": {      \"name\": 'indiv_buy_organic',\n",
        "                \"mapper\": lambda val: likert_scale_to_float_invert_5(val) + 2 }, # ac How often do you make a special effort to buy fruit and vegetables grown without pesticides or chemicals?\n",
        "  \"v55\": {      \"name\": 'indiv_avoid_car',\n",
        "                \"mapper\": lambda val: likert_scale_to_float_invert_5(val) + 2 }, # abc And how often do you cut back on driving a car for environmental reasons?\n",
        "  \"v56\": {      \"name\": 'member_group_preserve_env',\n",
        "                \"mapper\": lambda val: 1 if val == '1. Yes' else 0 }, # Are you a member of any group whose main aim is to preserve or protect the environment?\n",
        "  \"v57\": {      \"name\": 'signed_petition',\n",
        "                \"mapper\": lambda val: 1 if val.startswith('1. Yes') else 0 }, # In the last five years, have you signed a petition about an environmental issue?\n",
        "  \"v58\": {      \"name\": 'donated_money',\n",
        "                \"mapper\": lambda val: 1 if val.startswith('1. Yes') else 0 }, # In the last five years, Given money to an environmental group?\n",
        "  \"v59\": {      \"name\": 'protest',\n",
        "                \"mapper\": lambda val: 1 if val.startswith('1. Yes') else 0 }, # In the last five years, Taken part in a protest or demonstration about an environmental issue?\n",
        "}\n",
        "\n",
        "# We are going to use those columns twice to map to different categories (supports forced action vs supports voluntary action)\n",
        "survey_data_raw_df['v50_2'] = survey_data_raw_df['v50']\n",
        "survey_data_raw_df['v51_2'] = survey_data_raw_df['v51']\n",
        "\n",
        "\n",
        "column_naming_map = { key: value[\"name\"] for key, value in mapping.items() }\n",
        "\n",
        "survey_df = survey_data_raw_df[list(column_naming_map.keys())].rename(columns=column_naming_map)\n",
        "\n",
        "# For some columns, we need to convert responses e.g. '1. Strongly disagree' might become -2\n",
        "# The conversion functions are defined in the mapping dict above.\n",
        "for mapping_key in mapping.keys():\n",
        "  new_key = mapping[mapping_key][\"name\"]\n",
        "  mapping_fn = mapping[mapping_key][\"mapper\"]\n",
        "  if mapping_fn:\n",
        "    survey_df[new_key] = survey_df[new_key].map(mapping_fn)\n",
        "\n",
        "# reduced"
      ]
    },
    {
      "cell_type": "markdown",
      "metadata": {},
      "source": [
        "##### Categorization & Deriving Scores\n",
        "\n",
        "The following is a categorization of the questions in one of the following classes:\n",
        "1. Awareness to assess general awareness of environmental / climate issues\n",
        "2. Support for Individual action and talking points often brought up by the fossil industry\n",
        "3. Support for collective action"
      ]
    },
    {
      "cell_type": "markdown",
      "metadata": {},
      "source": [
        "###### Helper Functions\n"
      ]
    },
    {
      "cell_type": "code",
      "execution_count": 93,
      "metadata": {},
      "outputs": [],
      "source": [
        "\n",
        "\n",
        "def normalize(values: pd.Series):\n",
        "  values = values.copy()\n",
        "  values -= values.min()\n",
        "  values /= values.max()\n",
        "  return values\n",
        "\n",
        "def calc_weighted_sum(df: pd.DataFrame, column_weights: dict):\n",
        "  \"\"\"\n",
        "  Calculates the weight sums of columns in a data frame using dicts of column names to weights.\n",
        "  \"\"\"\n",
        "  columns, weights = [list(items) for items in zip(*column_weights.items())]\n",
        "\n",
        "  df_subset = df[columns]\n",
        "\n",
        "  averages = np.ma.average(np.ma.array(df_subset, mask=df_subset.isna().values), weights=weights, axis=1)\n",
        "\n",
        "  return averages.data\n"
      ]
    },
    {
      "cell_type": "markdown",
      "metadata": {},
      "source": [
        "###### Classification and Weighting of Responses in Three Categories\n",
        "\n",
        "The weights are not chosen based on previous research but are rather a good guess."
      ]
    },
    {
      "cell_type": "code",
      "execution_count": 94,
      "metadata": {},
      "outputs": [],
      "source": [
        "awareness_questions = {\n",
        "  'climate_change_oil_gas': 5,\n",
        "  'modern_life_harms_env': 2,\n",
        "  'car_air_poll_danger_env': 1,\n",
        "  'car_air_poll_danger_indiv': 1,\n",
        "  'industry_air_poll_danger_env': 1.5,\n",
        "  'temp_rise_danger_env': 3, # ?\n",
        "  # need to be reverse-interpreted\n",
        "  'climate_change_no_hole_atmosphere': 2\n",
        "}\n",
        "\n",
        "propaganda_questions = {\n",
        "  'science_solves_env_problems': 3,\n",
        "  'support_indiv_pay_more': 1,\n",
        "  'support_cut_living_standards': 1,\n",
        "  'indiv_support_sacrifice': 1,\n",
        "  'indiv_avoid_buying': 1,\n",
        "  'indiv_sort_waste': 1,\n",
        "  'indiv_buy_organic': 1,\n",
        "  'indiv_avoid_car': 1,\n",
        "  'gov_voluntary_business': 2,\n",
        "  'env_needs_econ_growth': 2,\n",
        "  'ppl_worry_too_much_progress_harms_env': 1,\n",
        "  'threats_exaggerated': 1,\n",
        "}\n",
        "\n",
        "collective_action_questions = {\n",
        "  'support_pay_higher_taxes': 1,\n",
        "  'indiv_action_too_difficult': 1,\n",
        "  'support_only_with_others': 2,\n",
        "  'internation_agreement_support': 2,\n",
        "  'protest': 3,\n",
        "  'member_group_preserve_env': 1,\n",
        "  'gov_laws_not_indiv': 1,\n",
        "  'gov_laws_not_business': 1,\n",
        "  'gov_force_indiv': 1,\n",
        "}\n"
      ]
    },
    {
      "cell_type": "markdown",
      "metadata": {},
      "source": [
        "###### Calculate Scores for Categories"
      ]
    },
    {
      "cell_type": "code",
      "execution_count": 95,
      "metadata": {},
      "outputs": [],
      "source": [
        "# Remove elements with more than 3 missing responses.\n",
        "survey_df = survey_df[\n",
        "    (survey_df[awareness_questions.keys()].isnull().sum(axis=1) <= 3)\n",
        "  & (survey_df[propaganda_questions.keys()].isnull().sum(axis=1) <= 3)\n",
        "  & (survey_df[collective_action_questions.keys()].isnull().sum(axis=1) <= 3)\n",
        "]\n",
        "\n",
        "\n",
        "# Calculate normalized scores\n",
        "survey_df['score_awareness'] = calc_weighted_sum(survey_df, awareness_questions)\n",
        "survey_df['score_individual_action'] = calc_weighted_sum(survey_df, propaganda_questions)\n",
        "survey_df['score_collective_action'] = calc_weighted_sum(survey_df, collective_action_questions)\n",
        "\n",
        "# TODO: We either need to normalize or adjust the questions with 4 response options to have the same range.\n",
        "# survey_df['score_awareness'] = normalize(survey_df['score_awareness'])\n",
        "# survey_df['score_individual_action'] = normalize(survey_df['score_individual_action'])\n",
        "# survey_df['score_collective_action'] = normalize(survey_df['score_collective_action'])"
      ]
    },
    {
      "cell_type": "code",
      "execution_count": 96,
      "metadata": {},
      "outputs": [],
      "source": [
        "# Filter respondents with very low awareness since they are not interesting to look at.\n",
        "# TODO: This seems to be a sensible default and done in our main reference paper. But does it make sense to keep it too?\n",
        "# survey_df = survey_df[survey_df['calc_awareness'] > 0.5]"
      ]
    },
    {
      "cell_type": "markdown",
      "metadata": {},
      "source": [
        "###### Show Histograms of Normalized Scores"
      ]
    },
    {
      "cell_type": "code",
      "execution_count": null,
      "metadata": {},
      "outputs": [],
      "source": [
        "survey_df['score_individual_action'].hist(bins=30, label=\"Focus: Individual Action\", alpha=0.4, color=\"red\")\n",
        "survey_df['score_collective_action'].hist(bins=30, label=\"Focus: Collective Action\", alpha=0.4, color=\"blue\")\n",
        "plt.legend()\n",
        "plt.show()\n",
        "survey_df['score_awareness'].hist(bins=30, label=\"Focus: Awareness\", alpha=0.5, color=\"green\")\n",
        "plt.legend()"
      ]
    },
    {
      "cell_type": "markdown",
      "metadata": {},
      "source": [
        "#### Fossil dependence data (Fossil Rent as Fraction of GDP)"
      ]
    },
    {
      "cell_type": "code",
      "execution_count": null,
      "metadata": {},
      "outputs": [],
      "source": [
        "survey_iso2_codes = pd.Series(survey_df['country_iso2'].unique())\n",
        "survey_country_names = pd.Series(survey_data_raw_df['country'].unique()).apply(lambda st: st.split(\"-\")[1])\n",
        "survey_wb_economy_codes = wb.economy.coder(survey_country_names)\n",
        "country_code_df = pd.DataFrame({'country_iso2': survey_iso2_codes, 'country_iso3': survey_wb_economy_codes})"
      ]
    },
    {
      "cell_type": "code",
      "execution_count": 100,
      "metadata": {},
      "outputs": [],
      "source": [
        "fossil_dependence_df = wb.data.DataFrame([\n",
        "    'NY.GDP.NGAS.RT.ZS',\n",
        "    'NY.GDP.COAL.RT.ZS',\n",
        "    'NY.GDP.PETR.RT.ZS',\n",
        "  ],\n",
        "  economy=survey_wb_economy_codes, \n",
        "  time=[1993, 2000, 2010, 2020],\n",
        "  numericTimeKeys=True,\n",
        "  skipBlanks=True,\n",
        "  columns='series'\n",
        "\n",
        ").reset_index()"
      ]
    },
    {
      "cell_type": "code",
      "execution_count": null,
      "metadata": {},
      "outputs": [],
      "source": [
        "fossil_dependence_df['fossil_rent'] = fossil_dependence_df[['NY.GDP.NGAS.RT.ZS', 'NY.GDP.COAL.RT.ZS', 'NY.GDP.PETR.RT.ZS']].sum(axis=1)\n",
        "fossil_dependence_df"
      ]
    },
    {
      "cell_type": "markdown",
      "metadata": {},
      "source": [
        "### Merge Datasets"
      ]
    },
    {
      "cell_type": "code",
      "execution_count": null,
      "metadata": {},
      "outputs": [],
      "source": [
        "# Add iso2 country codes to wb data\n",
        "fossil_dependence_df = pd.DataFrame.merge(fossil_dependence_df, country_code_df, left_on='economy', right_on='country_iso3')\n",
        "\n",
        "# merge survey and wb data by time and country (for a year and country, each respondent gets the same fossil dependence scores)\n",
        "merged_df = pd.DataFrame.merge(fossil_dependence_df, survey_df, left_on=['time', \"country_iso2\"], right_on=['year', 'country_iso2'])"
      ]
    },
    {
      "cell_type": "markdown",
      "metadata": {},
      "source": [
        "## Analysis"
      ]
    },
    {
      "cell_type": "markdown",
      "metadata": {},
      "source": [
        "### Variables\n",
        "\n",
        "- **Independent Variable**: Fossil fuel dependence\n",
        "- **Dependent Variable**: Support for individual vs collective action?\n",
        "- **Mediator**: Climate change awareness"
      ]
    },
    {
      "cell_type": "markdown",
      "metadata": {},
      "source": [
        "### Identify Awareness, Public, and Collective Action variables"
      ]
    },
    {
      "cell_type": "code",
      "execution_count": null,
      "metadata": {},
      "outputs": [],
      "source": []
    },
    {
      "cell_type": "code",
      "execution_count": 7,
      "metadata": {},
      "outputs": [],
      "source": [
        "# Model\n",
        "\n",
        "\n"
      ]
    }
  ],
  "metadata": {
    "kernelspec": {
      "display_name": "Python 3",
      "language": "python",
      "name": "python3"
    },
    "language_info": {
      "codemirror_mode": {
        "name": "ipython",
        "version": 3
      },
      "file_extension": ".py",
      "mimetype": "text/x-python",
      "name": "python",
      "nbconvert_exporter": "python",
      "pygments_lexer": "ipython3",
      "version": "3.13.1"
    }
  },
  "nbformat": 4,
  "nbformat_minor": 2
}
