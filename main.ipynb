{
 "cells": [
  {
   "cell_type": "markdown",
   "metadata": {},
   "source": [
    "# Foundations of CSS Final Group Project: *Question Goes Here*"
   ]
  },
  {
   "cell_type": "markdown",
   "metadata": {},
   "source": [
    "TODO: Add link to research poster and report"
   ]
  },
  {
   "cell_type": "markdown",
   "metadata": {},
   "source": [
    "## Prerequisits"
   ]
  },
  {
   "cell_type": "markdown",
   "metadata": {},
   "source": [
    "### Install Dependencies"
   ]
  },
  {
   "cell_type": "code",
   "execution_count": null,
   "metadata": {},
   "outputs": [],
   "source": [
    "!pip install pyreadstat pandas numpy matplotlib"
   ]
  },
  {
   "cell_type": "markdown",
   "metadata": {},
   "source": [
    "### Import Libraries"
   ]
  },
  {
   "cell_type": "code",
   "execution_count": 3,
   "metadata": {},
   "outputs": [],
   "source": [
    "import pandas as pd\n",
    "import numpy as np\n",
    "import matplotlib.pylab as plt\n",
    "import zipfile\n",
    "import shutil"
   ]
  },
  {
   "cell_type": "markdown",
   "metadata": {},
   "source": [
    "### Decompress Data"
   ]
  },
  {
   "cell_type": "code",
   "execution_count": 4,
   "metadata": {},
   "outputs": [],
   "source": [
    "with zipfile.ZipFile(\"data.zip\", \"r\") as zip_ref:\n",
    "    zip_ref.extractall(\"data\")\n",
    " \n",
    "# For data changes, re-zip data to zip file with python:\n",
    "# shutil.make_archive(\"data\", 'zip', \"data\")\n",
    "# or in the shell with command `zip data.zip data/ -9 -r` (linux)\n"
   ]
  },
  {
   "cell_type": "markdown",
   "metadata": {},
   "source": [
    "### Load Data"
   ]
  },
  {
   "cell_type": "markdown",
   "metadata": {},
   "source": [
    "\n",
    "International Social Survey Programme: Environment I-IV Cumulation. \\\n",
    "ISSP Research Group (2024) \\\n",
    "GESIS, Cologne. \\\n",
    "ZA8793 Data file Version 1.0.0 \\\n",
    "https://doi.org/10.4232/1.14332\n",
    "\n",
    "See [terms of use](https://www.gesis.org/fileadmin/upload/dienstleistung/daten/umfragedaten/_bgordnung_bestellen/2023-06-30_Nutzungsbedingungen.pdf) (category A) for more information.\n",
    "\n",
    "We do this in analogy to the paper https://search.gesis.org/research_data/ZA7650?doi=10.4232/1.13921 (Long-run trends in partisan polarization of climate policy-relevant attitudes across countries)"
   ]
  },
  {
   "cell_type": "code",
   "execution_count": null,
   "metadata": {},
   "outputs": [],
   "source": [
    "attitudes_df = pd.read_stata(\"data/ZA8793_v1-0-0_survey.dta\")\n",
    "attitudes_df"
   ]
  },
  {
   "cell_type": "markdown",
   "metadata": {},
   "source": [
    "\n",
    "---\n",
    "\n",
    "TODO: Fossil production data\n",
    "\n",
    "---\n",
    "\n",
    "TODO: Fossil dependence data\n",
    "\n",
    "---\n",
    "\n",
    "TODO: personal vs public action data\n"
   ]
  },
  {
   "cell_type": "code",
   "execution_count": null,
   "metadata": {},
   "outputs": [],
   "source": [
    "gas_data = pd.read_csv(\"data/Gas.csv\", header=0 )\n",
    "petroleum_data = pd.read_csv(\"data/patrolium production.csv\", header = 1)\n",
    "coal_data = pd.read_csv(\"data/Coal.csv\", header = 0)"
   ]
  },
  {
   "cell_type": "code",
   "execution_count": 7,
   "metadata": {},
   "outputs": [],
   "source": [
    "def clean_data(data_set):\n",
    "    # Remove rows where 'API' is 0 to filtred out the rows that are not countires and countires that does not have any data\n",
    "    data_set = data_set[data_set['API'].fillna(0) != 0]\n",
    "    data_set = data_set[data_set['API'] != 0]\n",
    "    \n",
    "    #Group by 'Country'\n",
    "    country_combined_data = data_set.groupby('Country').sum()\n",
    "\n",
    "    for column in country_combined_data.columns:\n",
    "        if column not in ['Country', 'API']:\n",
    "            country_combined_data[column] = country_combined_data[column].replace({',': '', ' ': ''}, regex=True)\n",
    "            country_combined_data[column] = country_combined_data[column].astype(str)\n",
    "            country_combined_data[column] = country_combined_data[column].str.extract('(\\d+(\\.\\d+)?)')[0]\n",
    "            country_combined_data[column] = pd.to_numeric(country_combined_data[column])\n",
    "\n",
    "    #country_combined_data = country_combined_data.astype(float)\n",
    "    # Reset index\n",
    "    country_combined_data = country_combined_data.reset_index()\n",
    "    \n",
    "    # Return\n",
    "    return country_combined_data\n",
    "\n",
    "\n",
    "cleaned_petroleum_data = clean_data(data_set = petroleum_data)\n",
    "cleaned_gas_data = clean_data(data_set = gas_data)\n",
    "cleaned_coal_data = clean_data(data_set= coal_data)"
   ]
  },
  {
   "cell_type": "code",
   "execution_count": null,
   "metadata": {},
   "outputs": [],
   "source": [
    "def total_energy_calculation(data_set_1, data_set_2, data_set_3):\n",
    "    # Concatenate the three datasets\n",
    "    dataset = pd.concat([data_set_1, data_set_2, data_set_3])\n",
    "    combined_data_set = dataset.groupby('Country').sum()\n",
    "    combined_data_set = combined_data_set.reset_index()\n",
    "    #print(\"Before conversion:\", combined_data_set['Country'].dtype)\n",
    "    combined_data_set['Country'] = combined_data_set['Country'].str.strip().map(str)\n",
    "    #print(\"After conversion:\", combined_data_set['Country'].dtype)\n",
    "    #print(combined_data_set['Country'].unique())\n",
    "\n",
    "    \n",
    "    return combined_data_set\n",
    "\n",
    "\n",
    "total_energy_production = total_energy_calculation(cleaned_petroleum_data, cleaned_gas_data, cleaned_coal_data)\n",
    "total_energy_production"
   ]
  },
  {
   "cell_type": "markdown",
   "metadata": {},
   "source": [
    "### Merge Datasets"
   ]
  },
  {
   "cell_type": "code",
   "execution_count": 9,
   "metadata": {},
   "outputs": [],
   "source": [
    "# TODO\n"
   ]
  }
 ],
 "metadata": {
  "kernelspec": {
   "display_name": "Python 3",
   "language": "python",
   "name": "python3"
  },
  "language_info": {
   "codemirror_mode": {
    "name": "ipython",
    "version": 3
   },
   "file_extension": ".py",
   "mimetype": "text/x-python",
   "name": "python",
   "nbconvert_exporter": "python",
   "pygments_lexer": "ipython3",
   "version": "3.11.5"
  }
 },
 "nbformat": 4,
 "nbformat_minor": 2
}
