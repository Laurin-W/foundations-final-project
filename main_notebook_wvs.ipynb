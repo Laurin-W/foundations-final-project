{
  "cells": [
    {
      "cell_type": "markdown",
      "metadata": {},
      "source": [
        "# Foundations of CSS Final Group Project: *Question Goes Here*"
      ]
    },
    {
      "cell_type": "markdown",
      "metadata": {},
      "source": [
        "TODO: Add link to research poster and report"
      ]
    },
    {
      "cell_type": "markdown",
      "metadata": {},
      "source": [
        "## Prerequisits"
      ]
    },
    {
      "cell_type": "markdown",
      "metadata": {},
      "source": [
        "### Install Dependencies"
      ]
    },
    {
      "cell_type": "code",
      "execution_count": null,
      "metadata": {},
      "outputs": [],
      "source": [
        "# ATTENTION: pycaret needs PYTHON VERSION 3.11. OR LOWER\n",
        "!pip install pyreadstat pandas numpy matplotlib wbgapi pycaret scipy"
      ]
    },
    {
      "cell_type": "markdown",
      "metadata": {},
      "source": [
        "### Import Libraries"
      ]
    },
    {
      "cell_type": "code",
      "execution_count": 1,
      "metadata": {},
      "outputs": [],
      "source": [
        "import pandas as pd\n",
        "import numpy as np\n",
        "import matplotlib.pyplot as plt\n",
        "import zipfile\n",
        "import shutil\n",
        "import re\n",
        "import wbgapi as wb\n",
        "import pycaret as pc\n",
        "import scipy as sp"
      ]
    },
    {
      "cell_type": "markdown",
      "metadata": {},
      "source": [
        "### Load and Prepare Data"
      ]
    },
    {
      "cell_type": "markdown",
      "metadata": {},
      "source": [
        "#### Attitudes Data"
      ]
    },
    {
      "cell_type": "markdown",
      "metadata": {},
      "source": [
        "You need to download this data from: https://www.worldvaluessurvey.org/WVSDocumentationWVL.jsp\n",
        "\n",
        "The results are very similar to the other notebook, so I wouldn't bother."
      ]
    },
    {
      "cell_type": "code",
      "execution_count": null,
      "metadata": {},
      "outputs": [],
      "source": [
        "survey_data_raw_df = pd.read_csv(\"data/WVS_Time_Series_1981-2022_csv_v5_0.csv\")"
      ]
    },
    {
      "cell_type": "markdown",
      "metadata": {},
      "source": [
        "There are 145 columns in the dataset.\n",
        "In the following, we make a selection of relevant ones\n",
        "and additionally group certain questions into\n",
        "\"support for public\" vs \"support for individual\" action."
      ]
    },
    {
      "cell_type": "code",
      "execution_count": 7,
      "metadata": {},
      "outputs": [],
      "source": [
        "# Define mapping functions to support getting survey data in usable format\n",
        "\n",
        "def extract_integer(x):\n",
        "    if (type(x) == int): return x\n",
        "    if (type(x) == float): return int(x)\n",
        "\n",
        "    return int(x.split('.')[0]) # assuming format like 2. agree somewhat\n",
        "\n",
        "# The below functions are helpers to make mapping the liker-scale responses (1.-5. (agree or disagree) or 1-4).\n",
        "# The responses are stretched to values between -2 and 2.\n",
        "# See in the next cell how it's used.\n",
        "def likert_scale_to_float(input, invert: bool, shift: float):\n",
        "    int_val = extract_integer(input)\n",
        "    if int_val < 0:\n",
        "        return np.nan;\n",
        "    else:\n",
        "        return float(int_val) + shift if invert == False else (float(int_val) + shift) * -1\n",
        "\n",
        "def likert_scale_to_float_5(input):\n",
        "    val = likert_scale_to_float(input, invert=False, shift=-3)\n",
        "    return val if val >= -2 and val <= 2 else np.nan\n",
        "\n",
        "def likert_scale_to_float_invert_5(input):\n",
        "    val = likert_scale_to_float(input, invert=False, shift=-3)\n",
        "    return val if val >= -2 and val <= 2 else np.nan\n",
        "\n",
        "def likert_scale_to_float_invert_4(input, shift=-2.5):\n",
        "    val = likert_scale_to_float(input, invert=True, shift=shift) * 4/3\n",
        "    return val if val >= -2 and val <= 2 else np.nan\n",
        "\n",
        "def likert_scale_to_float_4(input, invert=False):\n",
        "    val = likert_scale_to_float(input, invert, shift=-2.5) * 4/3\n",
        "    return val if val >= -2 and val <= 2 else np.nan\n",
        "\n"
      ]
    },
    {
      "cell_type": "code",
      "execution_count": 111,
      "metadata": {},
      "outputs": [],
      "source": [
        "# Comments beginning with letters (abcd) indicate which study have the question, if not all (1993, 2000, 2010, 2020).\n",
        "# Some mapping comments contain the exact question asked in the survey.\n",
        "# Detailed explanation of variables can be found here: https://search.gesis.org/research_data/ZA8793#variables|exploredata-ZA8793_VarWRKHRS|0|variable_order|asc\n",
        "\n",
        "# The below mapping is used to rename the original column names\n",
        "# and define functions to convert the columns, if necessary.\n",
        "# Not all of the dataset's questions are mapped (and kept).\n",
        "# Those are all that seemed vaguely interesting\n",
        "# but for the main analysis we only consider a subset.\n",
        "mapping = {\n",
        "  \"S008\": {     \"name\": 'id',\n",
        "                \"mapper\": int },\n",
        "  \"S020\": {     \"name\": 'year',\n",
        "                \"mapper\": extract_integer },\n",
        "  \"COUNTRY_ALPHA\": {     \"name\": 'country_iso3',\n",
        "                \"mapper\": None },\n",
        "  \"X003\": {     \"name\": 'age',\n",
        "                \"mapper\": extract_integer },\n",
        "  \"X001\": {     \"name\": 'sex',\n",
        "                \"mapper\": None },\n",
        "  \"X023R\":{     \"name\": 'education_time',\n",
        "                \"mapper\": lambda val: val if val >= 0 else np.nan },\n",
        "  \"B021\": {     \"name\": 'global_warming_serious',\n",
        "                \"mapper\": likert_scale_to_float_invert_4 },\n",
        "  \"B022\": {     \"name\": 'biodiv_loss_serious',\n",
        "                \"mapper\": likert_scale_to_float_invert_4 },\n",
        "}\n",
        "\n",
        "\n",
        "column_naming_map = { key: value[\"name\"] for key, value in mapping.items() }\n",
        "\n",
        "survey_df = survey_data_raw_df[list(column_naming_map.keys())].rename(columns=column_naming_map)\n",
        "\n",
        "# For some columns, we need to convert responses e.g. '1. Strongly disagree' might become -2\n",
        "# The conversion functions are defined in the mapping dict above.\n",
        "for mapping_key in mapping.keys():\n",
        "  new_key = mapping[mapping_key][\"name\"]\n",
        "  mapping_fn = mapping[mapping_key][\"mapper\"]\n",
        "  if mapping_fn:\n",
        "    survey_df[new_key] = survey_df[new_key].map(mapping_fn)\n",
        "\n"
      ]
    },
    {
      "cell_type": "code",
      "execution_count": 112,
      "metadata": {},
      "outputs": [],
      "source": [
        "# Ignore data where global warming or biodiv serious question have no responses\n",
        "survey_df = survey_df[survey_df['biodiv_loss_serious'].notna() & survey_df['global_warming_serious'].notna()]"
      ]
    },
    {
      "cell_type": "code",
      "execution_count": 58,
      "metadata": {},
      "outputs": [
        {
          "data": {
            "image/png": "[encoded data removed]",
            "text/plain": [
              "<Figure size 640x480 with 1 Axes>"
            ]
          },
          "metadata": {},
          "output_type": "display_data"
        },
        {
          "data": {
            "image/png": "[encoded data removed]",
            "text/plain": [
              "<Figure size 640x480 with 1 Axes>"
            ]
          },
          "metadata": {},
          "output_type": "display_data"
        }
      ],
      "source": [
        "# survey_df['score_individual_action'].hist(bins=30, label=\"Focus: Individual Action\", alpha=0.4, color=\"red\")\n",
        "# survey_df['score_collective_action'].hist(bins=30, label=\"Focus: Collective Action\", alpha=0.4, color=\"blue\")\n",
        "# plt.legend()\n",
        "# plt.show()\n",
        "survey_df['global_warming_serious'].hist(bins=30, label=\"Global Warming Serious\", alpha=0.5, color=\"yellow\")\n",
        "plt.legend()\n",
        "plt.show()\n",
        "survey_df['biodiv_loss_serious'].hist(bins=30, label=\"Biodiversity Loss Serious\", alpha=0.5, color=\"green\")\n",
        "plt.legend()\n",
        "plt.show()"
      ]
    },
    {
      "cell_type": "markdown",
      "metadata": {},
      "source": [
        "#### Fossil dependence data (Fossil Rent as Fraction of GDP)"
      ]
    },
    {
      "cell_type": "code",
      "execution_count": 114,
      "metadata": {},
      "outputs": [],
      "source": [
        "fuel_rents_wb_indicators = [\n",
        "  'NY.GDP.NGAS.RT.ZS', # Rent from Gas as Percentage of GDP\n",
        "  'NY.GDP.COAL.RT.ZS', # Rent from Coal as Percentage of GDP\n",
        "  'NY.GDP.PETR.RT.ZS', # Rent from Petroleum as Percentage of GDP\n",
        "]\n",
        "gdp_us_current_wb_indicator = 'NY.GDP.PCAP.CD' # GDP per Capita by Current US$\n",
        "\n",
        "# Fetch data from world bank (Fossil Rents and GDP data)\n",
        "fossil_dependence_df = wb.data.DataFrame(\n",
        "  fuel_rents_wb_indicators + [gdp_us_current_wb_indicator],\n",
        "  economy=survey_df['country_iso3'].unique(), \n",
        "  time=survey_df['year'].unique(),\n",
        "  numericTimeKeys=True,\n",
        "  skipBlanks=True,\n",
        "  columns='series'\n",
        "\n",
        ").reset_index()\n",
        "\n",
        "\n",
        "# Rents are in percent form. Normalize to [0-1]\n",
        "fossil_dependence_df[fuel_rents_wb_indicators] /= 100\n",
        "# Sum fossil rent indicators (fraction Fossil Rent of total GDP)\n",
        "fossil_dependence_df['fossil_rent'] = fossil_dependence_df[['NY.GDP.NGAS.RT.ZS', 'NY.GDP.COAL.RT.ZS', 'NY.GDP.PETR.RT.ZS']].sum(axis=1)\n",
        "\n",
        "# Log GDP per Capita to reduce skew, as done in Knight (2018)\n",
        "fossil_dependence_df['gdp_logged'] = np.log(fossil_dependence_df[gdp_us_current_wb_indicator])"
      ]
    },
    {
      "cell_type": "markdown",
      "metadata": {},
      "source": [
        "### Merge Datasets"
      ]
    },
    {
      "cell_type": "code",
      "execution_count": 115,
      "metadata": {},
      "outputs": [],
      "source": [
        "# Add iso2 country codes to wb data\n",
        "# fossil_dependence_df = pd.DataFrame.merge(fossil_dependence_df, country_code_df, left_on='economy', right_on='country_iso3')\n",
        "\n",
        "# merge survey and wb data by time and country (for a year and country, each respondent gets the same fossil dependence scores)\n",
        "merged_df = pd.DataFrame.merge(fossil_dependence_df, survey_df, left_on=['time', \"economy\"], right_on=['year', 'country_iso3'])\n",
        "\n",
        "# Since the dataset is quite big and needs to be downloaded, you can use the following compilation instead.\n",
        "# merged_df = pd.read_csv('wvc_merged.csv')"
      ]
    },
    {
      "cell_type": "markdown",
      "metadata": {},
      "source": [
        "## Analysis"
      ]
    },
    {
      "cell_type": "markdown",
      "metadata": {},
      "source": [
        "### Identify Awareness, Public, and Collective Action variables"
      ]
    },
    {
      "cell_type": "code",
      "execution_count": 117,
      "metadata": {},
      "outputs": [],
      "source": [
        "all_params = ['NY.GDP.COAL.RT.ZS', 'NY.GDP.NGAS.RT.ZS',\t'NY.GDP.PETR.RT.ZS', 'fossil_rent'] \\\n",
        "                + ['global_warming_serious'] \\\n",
        "                + ['biodiv_loss_serious']\n",
        "groupby_params = ['year', 'country_iso3']\n"
      ]
    },
    {
      "cell_type": "code",
      "execution_count": null,
      "metadata": {},
      "outputs": [],
      "source": [
        "aggregated_scores = merged_df.groupby(groupby_params)[all_params].agg(np.nanmean)\n",
        "aggregated_scores['count'] = merged_df.groupby(groupby_params).count()[all_params[0]]\n",
        "# Add fossil rent for country and year\n",
        "aggregated_scores.corr(method=lambda x,y: sp.stats.linregress(x,y)[0] if sp.stats.linregress(x,y)[1] < 0.05 else np.nan)\n",
        "aggregated_scores = aggregated_scores.reset_index()"
      ]
    },
    {
      "cell_type": "code",
      "execution_count": 119,
      "metadata": {},
      "outputs": [],
      "source": [
        "deu_a = aggregated_scores[aggregated_scores['country_iso3'] == \"DEU\"]\n",
        "usa_a = aggregated_scores[aggregated_scores['country_iso3'] == \"GER\"]\n",
        "eng_a = aggregated_scores[aggregated_scores['country_iso3'] == \"ENG\"]"
      ]
    },
    {
      "cell_type": "code",
      "execution_count": null,
      "metadata": {},
      "outputs": [],
      "source": [
        "# For each country, the number of years available. All just one year...\n",
        "merged_df[['economy', 'year']].groupby(['economy', 'year']).size().groupby('economy').count()"
      ]
    },
    {
      "cell_type": "code",
      "execution_count": null,
      "metadata": {},
      "outputs": [],
      "source": [
        "years = merged_df['year'].unique().sort()\n",
        "for question in [\"global_warming_serious\", \"biodiv_loss_serious\"]:\n",
        "  mean_by_year = merged_df.groupby('year')[question].mean()\n",
        "  mean_by_year = mean_by_year.sort_index()\n",
        "  plt.plot(mean_by_year, label=question)\n",
        "\n",
        "plt.legend()"
      ]
    }
  ],
  "metadata": {
    "kernelspec": {
      "display_name": "myenv",
      "language": "python",
      "name": "python3"
    },
    "language_info": {
      "codemirror_mode": {
        "name": "ipython",
        "version": 3
      },
      "file_extension": ".py",
      "mimetype": "text/x-python",
      "name": "python",
      "nbconvert_exporter": "python",
      "pygments_lexer": "ipython3",
      "version": "3.11.11"
    }
  },
  "nbformat": 4,
  "nbformat_minor": 2
}
