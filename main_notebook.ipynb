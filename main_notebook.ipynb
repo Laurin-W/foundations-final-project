{
  "cells": [
    {
      "cell_type": "markdown",
      "metadata": {},
      "source": [
        "# Foundations of CSS Final Group Project: *Question Goes Here*"
      ]
    },
    {
      "cell_type": "markdown",
      "metadata": {},
      "source": [
        "TODO: Add link to research poster and report"
      ]
    },
    {
      "cell_type": "markdown",
      "metadata": {},
      "source": [
        "## Prerequisits"
      ]
    },
    {
      "cell_type": "markdown",
      "metadata": {},
      "source": [
        "### Install Dependencies"
      ]
    },
    {
      "cell_type": "code",
      "execution_count": null,
      "metadata": {},
      "outputs": [],
      "source": [
        "# ATTENTION: pycaret needs PYTHON VERSION 3.11. OR LOWER\n",
        "!pip install pyreadstat pandas numpy matplotlib wbgapi scipy pycaret"
      ]
    },
    {
      "cell_type": "markdown",
      "metadata": {},
      "source": [
        "### Import Libraries"
      ]
    },
    {
      "cell_type": "code",
      "execution_count": 2,
      "metadata": {},
      "outputs": [],
      "source": [
        "import pandas as pd\n",
        "import numpy as np\n",
        "import matplotlib.pyplot as plt\n",
        "import zipfile\n",
        "import shutil\n",
        "import re\n",
        "import wbgapi as wb\n",
        "import pycaret as pc\n",
        "import pycaret.regression as reg\n",
        "import scipy as sp\n",
        "from scipy import stats"
      ]
    },
    {
      "cell_type": "markdown",
      "metadata": {},
      "source": [
        "### Decompress Data"
      ]
    },
    {
      "cell_type": "code",
      "execution_count": 3,
      "metadata": {},
      "outputs": [],
      "source": [
        "with zipfile.ZipFile(\"data.zip\", \"r\") as zip_ref:\n",
        "    zip_ref.extractall(\"data\")\n",
        " \n",
        "# For data changes, re-zip data to zip file with python:\n",
        "# shutil.make_archive(\"data\", 'zip', \"data\")\n",
        "# or in the shell with command `zip data.zip data/ -9 -r` (linux)\n"
      ]
    },
    {
      "cell_type": "markdown",
      "metadata": {},
      "source": [
        "### Load and Prepare Data"
      ]
    },
    {
      "cell_type": "markdown",
      "metadata": {},
      "source": [
        "#### Attitudes Data"
      ]
    },
    {
      "cell_type": "markdown",
      "metadata": {},
      "source": [
        "\n",
        "International Social Survey Programme: Environment I-IV Cumulation. \\\n",
        "ISSP Research Group (2024) \\\n",
        "GESIS, Cologne. \\\n",
        "ZA8793 Data file Version 1.0.0 \\\n",
        "https://doi.org/10.4232/1.14332\n",
        "\n",
        "See [terms of use](https://www.gesis.org/fileadmin/upload/dienstleistung/daten/umfragedaten/_bgordnung_bestellen/2023-06-30_Nutzungsbedingungen.pdf) (category A) for more information.\n",
        "\n",
        "The survey data is used in [Long-run trends in partisan polarization of climate policy-relevant attitudes across countries](https://doi.org/10.1080/09644016.2024.2403957) as well which we partly reproduce here."
      ]
    },
    {
      "cell_type": "code",
      "execution_count": 4,
      "metadata": {},
      "outputs": [],
      "source": [
        "survey_data_raw_df = pd.read_stata(\"data/ZA8793_v1-0-0_survey.dta\")"
      ]
    },
    {
      "cell_type": "markdown",
      "metadata": {},
      "source": [
        "There are 145 columns in the dataset.\n",
        "In the following, we make a selection of relevant ones\n",
        "and additionally group certain questions into\n",
        "\"support for public\" vs \"support for individual\" action."
      ]
    },
    {
      "cell_type": "code",
      "execution_count": 5,
      "metadata": {},
      "outputs": [],
      "source": [
        "# Define mapping functions to support getting survey data in usable format\n",
        "\n",
        "def extract_integer(x):\n",
        "    if (type(x) == int): return x\n",
        "    if (type(x) == float): return int(x)\n",
        "\n",
        "    return int(x.split('.')[0]) # assuming format like 2. agree somewhat\n",
        "\n",
        "# The below functions are helpers to make mapping the liker-scale responses (1.-5. (agree or disagree) or 1-4).\n",
        "# The responses are stretched to values between -2 and 2.\n",
        "# See in the next cell how it's used.\n",
        "def likert_scale_to_float(input, invert: bool, shift: float):\n",
        "    int_val = extract_integer(input)\n",
        "    if int_val < 0:\n",
        "        return np.nan;\n",
        "    else:\n",
        "        return float(int_val) + shift if invert == False else (float(int_val) + shift) * -1\n",
        "\n",
        "def likert_scale_to_float_5(input):\n",
        "    val = likert_scale_to_float(input, invert=False, shift=-3)\n",
        "    return val if val >= -2 and val <= 2 else np.nan\n",
        "\n",
        "def likert_scale_to_float_invert_5(input):\n",
        "    val = likert_scale_to_float(input, invert=False, shift=-3)\n",
        "    return val if val >= -2 and val <= 2 else np.nan\n",
        "\n",
        "def likert_scale_to_float_invert_4(input, shift=-2.5):\n",
        "    val = likert_scale_to_float(input, invert=True, shift=shift) * 4/3\n",
        "    return val if val >= -2 and val <= 2 else np.nan\n",
        "\n",
        "def likert_scale_to_float_4(input, invert=False):\n",
        "    val = likert_scale_to_float(input, invert, shift=-2.5) * 4/3\n",
        "    return val if val >= -2 and val <= 2 else np.nan\n",
        "\n"
      ]
    },
    {
      "cell_type": "code",
      "execution_count": 6,
      "metadata": {},
      "outputs": [],
      "source": [
        "# Comments beginning with letters (abcd) indicate which study have the question, if not all (1993, 2000, 2010, 2020).\n",
        "# Some mapping comments contain the exact question asked in the survey.\n",
        "# Detailed explanation of variables can be found here: https://search.gesis.org/research_data/ZA8793#variables|exploredata-ZA8793_VarWRKHRS|0|variable_order|asc\n",
        "\n",
        "# The below mapping is used to rename the original column names\n",
        "# and define functions to convert the columns, if necessary.\n",
        "# Not all of the dataset's questions are mapped (and kept).\n",
        "# Those are all that seemed vaguely interesting\n",
        "# but for the main analysis we only consider a subset.\n",
        "mapping = {\n",
        "  \"cumu_id\": {  \"name\": 'id',\n",
        "                \"mapper\": int },\n",
        "  \"year\": {     \"name\": 'year',\n",
        "                \"mapper\": extract_integer },\n",
        "  \"country\": {  \"name\": 'country_iso2',\n",
        "                \"mapper\": lambda country: re.search(r'^\\d+\\. ([A-Z]+)-', country).group(1) },\n",
        "  \"AGE\": {      \"name\": 'age',\n",
        "                \"mapper\": extract_integer },\n",
        "  \"SEX\": {      \"name\": 'sex',\n",
        "                \"mapper\": None },\n",
        "  \"EDUCYRS\": {  \"name\": 'education_years',\n",
        "                \"mapper\": lambda year: extract_integer(year) if extract_integer(year) < 30 else -2 },\n",
        "  'MARITAL': {  \"name\": 'marital_status',\n",
        "                \"mapper\": None },\n",
        "  \"PARTY_LR1\": {\"name\": 'party_lef_right_derived',\n",
        "                \"mapper\": likert_scale_to_float_5 },\n",
        "  \"PARTY_LR2\": {\"name\": 'party_lef_right_asked',\n",
        "                \"mapper\": likert_scale_to_float_5 },\n",
        "  \"WEIGHT\": {   \"name\": 'regional_weight_factor',\n",
        "                \"mapper\": lambda w: 1 if w == \"1. No weighting\" else w },\n",
        "\n",
        "  \"v11\": {      \"name\": 'science_solves_env_problems',\n",
        "                \"mapper\": likert_scale_to_float_invert_5 },\n",
        "  \"v12\": {      \"name\": 'worry_too_much_about_env_not_prices_jobs',\n",
        "                \"mapper\": likert_scale_to_float_invert_5 },\n",
        "  \"v13\": {      \"name\": 'modern_life_harms_env',\n",
        "                \"mapper\": likert_scale_to_float_5 },\n",
        "  \"v14\": {      \"name\": 'ppl_worry_too_much_progress_harms_env', \n",
        "                \"mapper\": likert_scale_to_float_5 }, # People worry too much about human progress harming the environment.\n",
        "  \"v15\": {      \"name\": 'env_needs_econ_growth',\n",
        "                \"mapper\": likert_scale_to_float_5 }, # In order to protect the environment [COUNTRY] needs economic growth.\n",
        "  \"v17\": {      \"name\": 'econ_growth_harms_env',\n",
        "                \"mapper\": likert_scale_to_float_5 },\n",
        "  \"v18\": {      \"name\": 'population_growth_unsustainable',\n",
        "                \"mapper\": likert_scale_to_float_5 },\n",
        "  \"v20\": {      \"name\": 'support_indiv_pay_more',\n",
        "                \"mapper\":  likert_scale_to_float_invert_5},\n",
        "  \"v21\": {      \"name\": 'support_pay_higher_taxes',\n",
        "                \"mapper\": likert_scale_to_float_invert_5 },\n",
        "  \"v22\": {      \"name\": 'support_cut_living_standards',\n",
        "                \"mapper\": likert_scale_to_float_invert_5 },\n",
        "  \"v23\": {      \"name\": 'indiv_action_too_difficult',\n",
        "                \"mapper\": likert_scale_to_float_invert_5 }, # It is just too difficult for someone like me to do much about the environment.\n",
        "  \"v24\": {      \"name\": 'indiv_support_sacrifice',\n",
        "                \"mapper\": likert_scale_to_float_invert_5 }, # I do what is right for the environment, even when it costs more money or takes more time.\n",
        "  \"v26\": {      \"name\": 'support_only_with_others',\n",
        "                \"mapper\": likert_scale_to_float_5 }, # bcd; There is no point in doing what I can for the environment unless others do the same.\n",
        "  \"v27\": {      \"name\": 'threats_not_exaggerated',\n",
        "                \"mapper\": likert_scale_to_float_5 }, # bcd\n",
        "  \"v33\": {      \"name\": 'climate_change_no_hole_atmosphere',\n",
        "                \"mapper\": likert_scale_to_float_4 }, # abc, Climate change [/ greenhouse effect] is caused by a hole in the earth's atmosphere. (afterwards inverted)\n",
        "  \"v34\": {      \"name\": 'climate_change_oil_gas',\n",
        "                \"mapper\": likert_scale_to_float_invert_4 }, # abc, Every time we use coal or oil or gas, we contribute to climate change [/ greenhouse effect].\n",
        "  \"v35\": {      \"name\": 'env_problems_everyday_life',\n",
        "                \"mapper\": likert_scale_to_float_invert_5 }, # cd\n",
        "  \"v36\": {      \"name\": 'car_air_poll_danger_env',\n",
        "                \"mapper\": likert_scale_to_float_invert_5 }, # Air pollution caused by cars is (dangerous/ not dangerous) for environment\n",
        "  \"v37\": {      \"name\": 'car_air_poll_danger_indiv',\n",
        "                \"mapper\": likert_scale_to_float_invert_5 }, # Air pollution caused by cars is (dangerous/ not dangerous) for you and your family\n",
        "  \"v39\": {      \"name\": 'industry_air_poll_danger_env',\n",
        "                \"mapper\": likert_scale_to_float_invert_5 }, # In general, do you think that air pollution caused by industry is (dangerous/ not dangerous)\n",
        "  \"v42\": {      \"name\": 'temp_rise_danger_env',\n",
        "                \"mapper\": likert_scale_to_float_invert_5 }, # bcd In general, do you think that a rise in the world's temperature caused by climate change is (dangerous/ not dangerous)\n",
        "  \"v44\": {      \"name\": 'gov_laws_not_indiv',\n",
        "                \"mapper\": lambda val: 1 if extract_integer(val) == 2 else 0 }, # abc Government or ordinary people: decide themselves how to protect environment (2 = government)\n",
        "  \"v45\": {      \"name\": 'gov_laws_not_business',\n",
        "                \"mapper\": lambda val: 1 if extract_integer(val) == 2 else 0 }, # abc Government or business: decide themselves how to protect environment\n",
        "  \"v47\": {      \"name\": 'internation_agreement_support',\n",
        "                \"mapper\": likert_scale_to_float_invert_5 }, # bc\n",
        "  \"v50\": {      \"name\": 'gov_force_business',\n",
        "                \"mapper\": lambda val: 1 if val.startswith('1. Heavy fines') or val.startswith('2. Use the tax system') else 0 }, # cd Which of these approaches do you think would be the best way of getting business and industry in [COUNTRY] to protect the environment?\n",
        "  \"v50_2\": {    \"name\": 'gov_voluntary_business',\n",
        "                \"mapper\": lambda val: 1 if val.startswith('3. More information and education') else 0 }, # cd Which of these approaches do you think would be the best way of getting business and industry in [COUNTRY] to protect the environment?\n",
        "  \"v51\": {      \"name\": 'gov_force_indiv',\n",
        "                \"mapper\": lambda val: 1 if val.startswith('1. Heavy fines') or val.startswith('2. Use the tax system') else 0 }, # cd Which of these approaches do you think would be the best way of getting people and their families in [COUNTRY] to protect the environment?\n",
        "  \"v51_2\": {    \"name\": 'gov_voluntary_indiv',\n",
        "                \"mapper\": lambda val: 1 if val.startswith('3. More information and education') else 0 }, # cd Which of these approaches do you think would be the best way of getting people and their families in [COUNTRY] to protect the environment?\n",
        "  \"v52\": {      \"name\": 'indiv_avoid_buying',\n",
        "                \"mapper\": lambda val: likert_scale_to_float_invert_4(val) }, # cd And how often do you avoid buying certain products for environmental reasons?\n",
        "  \"v53\": {      \"name\": 'indiv_sort_waste',\n",
        "                \"mapper\": lambda val: likert_scale_to_float_invert_5(val)}, # ac How often do you make a special effort to sort glass or tins or plastic or newspapers and so on for recycling?\n",
        "  \"v54\": {      \"name\": 'indiv_buy_organic',\n",
        "                \"mapper\": lambda val: likert_scale_to_float_invert_5(val)}, # ac How often do you make a special effort to buy fruit and vegetables grown without pesticides or chemicals?\n",
        "  \"v55\": {      \"name\": 'indiv_avoid_car',\n",
        "                \"mapper\": lambda val: likert_scale_to_float_invert_5(val)}, # abc And how often do you cut back on driving a car for environmental reasons?\n",
        "  \"v56\": {      \"name\": 'member_group_preserve_env',\n",
        "                \"mapper\": lambda val: 1 if val == '1. Yes' else 0 }, # Are you a member of any group whose main aim is to preserve or protect the environment?\n",
        "  \"v57\": {      \"name\": 'signed_petition',\n",
        "                \"mapper\": lambda val: 1 if val.startswith('1. Yes') else 0 }, # In the last five years, have you signed a petition about an environmental issue?\n",
        "  \"v58\": {      \"name\": 'donated_money',\n",
        "                \"mapper\": lambda val: 1 if val.startswith('1. Yes') else 0 }, # In the last five years, Given money to an environmental group?\n",
        "  \"v59\": {      \"name\": 'protest',\n",
        "                \"mapper\": lambda val: 1 if val.startswith('1. Yes') else 0 }, # In the last five years, Taken part in a protest or demonstration about an environmental issue?\n",
        "}\n",
        "\n",
        "# We are going to use those columns twice to map to different categories (supports forced action vs supports voluntary action)\n",
        "survey_data_raw_df['v50_2'] = survey_data_raw_df['v50']\n",
        "survey_data_raw_df['v51_2'] = survey_data_raw_df['v51']\n",
        "\n",
        "\n",
        "column_naming_map = { key: value[\"name\"] for key, value in mapping.items() }\n",
        "\n",
        "survey_df = survey_data_raw_df[list(column_naming_map.keys())].rename(columns=column_naming_map)\n",
        "\n",
        "# For some columns, we need to convert responses e.g. '1. Strongly disagree' might become -2\n",
        "# The conversion functions are defined in the mapping dict above.\n",
        "for mapping_key in mapping.keys():\n",
        "  new_key = mapping[mapping_key][\"name\"]\n",
        "  mapping_fn = mapping[mapping_key][\"mapper\"]\n",
        "  if mapping_fn:\n",
        "    survey_df[new_key] = survey_df[new_key].map(mapping_fn)\n",
        "\n"
      ]
    },
    {
      "cell_type": "code",
      "execution_count": 21,
      "metadata": {},
      "outputs": [],
      "source": [
        "# For some columns we need a human-readable label later.\n",
        "column_labels = {\n",
        "  'climate_change_oil_gas': \"Fossils contribute to climate change\",\n",
        "  'modern_life_harms_env': \"Modern life harms environment\",\n",
        "  'car_air_poll_danger_env': \"Car air pollution danger for environment\",\n",
        "  'car_air_poll_danger_indiv': \"Car air pollution danger for you/family\",\n",
        "  'industry_air_poll_danger_env': \"Industry air pollution danger for environment\",\n",
        "  'temp_rise_danger_env': \"Temperature rise by greenhouse effect dangerous?\",\n",
        "  'climate_change_no_hole_atmosphere': \"Climate changed _not_ caused by hole in atmosphere \",\n",
        "}"
      ]
    },
    {
      "cell_type": "markdown",
      "metadata": {},
      "source": [
        "##### Categorization & Deriving Scores\n",
        "\n",
        "The following is a categorization of the questions in one of the following classes:\n",
        "1. Awareness to assess general awareness of environmental / climate issues\n",
        "2. Support for Individual action and talking points often brought up by the fossil industry\n",
        "3. Support for collective action"
      ]
    },
    {
      "cell_type": "markdown",
      "metadata": {},
      "source": [
        "###### Helper Functions\n"
      ]
    },
    {
      "cell_type": "code",
      "execution_count": 7,
      "metadata": {},
      "outputs": [],
      "source": [
        "def normalize(values: pd.Series):\n",
        "  values = values.copy()\n",
        "  values -= values.min()\n",
        "  values /= values.max()\n",
        "  return values\n",
        "\n",
        "def calc_weighted_mean(df: pd.DataFrame, column_weights: dict):\n",
        "  \"\"\"\n",
        "  Calculates the weight sums of columns in a data frame using dicts of column names to weights.\n",
        "  \"\"\"\n",
        "  columns, weights = [list(items) for items in zip(*column_weights.items())]\n",
        "\n",
        "  df_subset = df[columns]\n",
        "\n",
        "  averages = np.ma.average(np.ma.array(df_subset, mask=df_subset.isna().values), weights=weights, axis=1)\n",
        "\n",
        "  return averages.data\n"
      ]
    },
    {
      "cell_type": "markdown",
      "metadata": {},
      "source": [
        "###### Classification and Weighting of Responses in Three Categories\n",
        "\n",
        "The weights are **not chosen based on previous research but are rather a good guess.**"
      ]
    },
    {
      "cell_type": "code",
      "execution_count": 8,
      "metadata": {},
      "outputs": [],
      "source": [
        "awareness_questions_weights = {\n",
        "  'climate_change_oil_gas': 5,\n",
        "  'modern_life_harms_env': 2,\n",
        "  'car_air_poll_danger_env': 1,\n",
        "  'car_air_poll_danger_indiv': 1,\n",
        "  'industry_air_poll_danger_env': 1.5,\n",
        "  'temp_rise_danger_env': 3, # ?\n",
        "  'climate_change_no_hole_atmosphere': 2\n",
        "}\n",
        "\n",
        "propaganda_questions_weights = {\n",
        "  'science_solves_env_problems': 3,\n",
        "  'support_indiv_pay_more': 1,\n",
        "  'support_cut_living_standards': 1,\n",
        "  'indiv_support_sacrifice': 1,\n",
        "  'indiv_avoid_buying': 1,\n",
        "  'indiv_sort_waste': 1,\n",
        "  'indiv_buy_organic': 1,\n",
        "  'indiv_avoid_car': 1,\n",
        "  'gov_voluntary_business': 2,\n",
        "  'env_needs_econ_growth': 2,\n",
        "  'ppl_worry_too_much_progress_harms_env': 1,\n",
        "  'threats_not_exaggerated': 2,\n",
        "}\n",
        "\n",
        "collective_action_questions_weights = {\n",
        "  'support_pay_higher_taxes': 1,\n",
        "  'indiv_action_too_difficult': 1,\n",
        "  'support_only_with_others': 2,\n",
        "  'internation_agreement_support': 2,\n",
        "  'protest': 3,\n",
        "  'member_group_preserve_env': 1,\n",
        "  'gov_laws_not_indiv': 1,\n",
        "  'gov_laws_not_business': 1,\n",
        "  'gov_force_indiv': 1,\n",
        "}\n"
      ]
    },
    {
      "cell_type": "markdown",
      "metadata": {},
      "source": [
        "###### Calculate Scores for Categories"
      ]
    },
    {
      "cell_type": "code",
      "execution_count": 9,
      "metadata": {},
      "outputs": [],
      "source": [
        "# Remove elements with more than 3 missing responses.\n",
        "survey_df = survey_df[\n",
        "    (survey_df[awareness_questions_weights.keys()].isnull().sum(axis=1) <= 3)\n",
        "  & (survey_df[propaganda_questions_weights.keys()].isnull().sum(axis=1) <= 3)\n",
        "  & (survey_df[collective_action_questions_weights.keys()].isnull().sum(axis=1) <= 3)\n",
        "]\n",
        "\n",
        "\n",
        "# Calculate mean scores\n",
        "survey_df['score_awareness'] = calc_weighted_mean(survey_df, awareness_questions_weights)\n",
        "survey_df['score_individual_action'] = calc_weighted_mean(survey_df, propaganda_questions_weights)\n",
        "survey_df['score_collective_action'] = calc_weighted_mean(survey_df, collective_action_questions_weights)\n",
        "survey_df['score_indiv_minus_collective'] = survey_df['score_individual_action'] - survey_df['score_collective_action']"
      ]
    },
    {
      "cell_type": "code",
      "execution_count": 10,
      "metadata": {},
      "outputs": [],
      "source": [
        "# Filter respondents with very low awareness since they are not interesting to look at.\n",
        "# TODO: This seems to be a sensible default and done in our main reference paper. But does it make sense to keep it too?\n",
        "# survey_df = survey_df[survey_df['calc_awareness'] > 0.5]"
      ]
    },
    {
      "cell_type": "markdown",
      "metadata": {},
      "source": [
        "###### Show Histograms (Normalized to values between -2 and 2)"
      ]
    },
    {
      "cell_type": "code",
      "execution_count": null,
      "metadata": {},
      "outputs": [],
      "source": [
        "survey_df['score_individual_action'].hist(bins=30, label=\"Focus: Individual Action\", alpha=0.4, color=\"red\")\n",
        "survey_df['score_collective_action'].hist(bins=30, label=\"Focus: Collective Action\", alpha=0.4, color=\"blue\")\n",
        "plt.legend()\n",
        "plt.show()\n",
        "survey_df['score_awareness'].hist(bins=30, label=\"Focus: Awareness\", alpha=0.5, color=\"green\")\n",
        "plt.legend()"
      ]
    },
    {
      "cell_type": "markdown",
      "metadata": {},
      "source": [
        "#### Fossil dependence data (Fossil Rent as Fraction of GDP)"
      ]
    },
    {
      "cell_type": "code",
      "execution_count": 12,
      "metadata": {},
      "outputs": [],
      "source": [
        "# Add mapper df\n",
        "survey_iso2_codes = pd.Series(survey_df['country_iso2'].unique())\n",
        "survey_country_names = pd.Series(survey_data_raw_df['country'].unique()).apply(lambda st: st.split(\"-\")[1])\n",
        "survey_wb_economy_codes = wb.economy.coder(survey_country_names)\n",
        "country_code_df = pd.DataFrame({'country_iso2': survey_iso2_codes, 'country_iso3': survey_wb_economy_codes})"
      ]
    },
    {
      "cell_type": "code",
      "execution_count": 13,
      "metadata": {},
      "outputs": [],
      "source": [
        "fuel_rents_wb_indicators = [\n",
        "  'NY.GDP.NGAS.RT.ZS', # Rent from Gas as Percentage of GDP\n",
        "  'NY.GDP.COAL.RT.ZS', # Rent from Coal as Percentage of GDP\n",
        "  'NY.GDP.PETR.RT.ZS', # Rent from Petroleum as Percentage of GDP\n",
        "]\n",
        "gdp_us_current_wb_indicator = 'NY.GDP.PCAP.CD' # GDP per Capita by Current US$\n",
        "\n",
        "# Fetch data from world bank (Fossil Rents and GDP data)\n",
        "fossil_dependence_df = wb.data.DataFrame(\n",
        "  fuel_rents_wb_indicators + [gdp_us_current_wb_indicator],\n",
        "  economy=country_code_df['country_iso3'].unique(), \n",
        "  time=survey_df['year'].unique(),\n",
        "  numericTimeKeys=True,\n",
        "  skipBlanks=True,\n",
        "  columns='series'\n",
        ").reset_index()\n",
        "\n",
        "# Rents are in percent form. Normalize to [0-1]\n",
        "fossil_dependence_df[fuel_rents_wb_indicators] /= 100\n",
        "# Sum fossil rent indicators (fraction Fossil Rent of total GDP)\n",
        "fossil_dependence_df['fossil_rent'] = fossil_dependence_df[['NY.GDP.NGAS.RT.ZS', 'NY.GDP.COAL.RT.ZS', 'NY.GDP.PETR.RT.ZS']].sum(axis=1)\n",
        "fossil_dependence_df['fossil_rent_log10'] = np.log10(fossil_dependence_df['fossil_rent'] + 1)\n",
        "\n",
        "# Log GDP per Capita to reduce skew, as done in Knight (2018)\n",
        "fossil_dependence_df['gdp_log10'] = np.log10(fossil_dependence_df[gdp_us_current_wb_indicator])"
      ]
    },
    {
      "cell_type": "markdown",
      "metadata": {},
      "source": [
        "### Merge Datasets"
      ]
    },
    {
      "cell_type": "code",
      "execution_count": 14,
      "metadata": {},
      "outputs": [],
      "source": [
        "# Add iso2 country codes to wb data\n",
        "fossil_dependence_df = pd.DataFrame.merge(fossil_dependence_df, country_code_df, left_on='economy', right_on='country_iso3')\n",
        "\n",
        "# merge survey and wb data by time and country (for a year and country, each respondent gets the same fossil dependence scores)\n",
        "merged_df = pd.DataFrame.merge(fossil_dependence_df, survey_df, left_on=['time', \"country_iso2\"], right_on=['year', 'country_iso2'])"
      ]
    },
    {
      "cell_type": "markdown",
      "metadata": {},
      "source": [
        "## Analysis"
      ]
    },
    {
      "cell_type": "markdown",
      "metadata": {},
      "source": [
        "### Variables\n",
        "\n",
        "- **Independent Variable**: Fossil fuel dependence\n",
        "- **Dependent Variable**: Support for individual vs collective action?\n",
        "- **Control**: Climate change awareness"
      ]
    },
    {
      "cell_type": "markdown",
      "metadata": {},
      "source": [
        "### Identify Awareness, Public, and Collective Action variables"
      ]
    },
    {
      "cell_type": "code",
      "execution_count": 15,
      "metadata": {},
      "outputs": [],
      "source": [
        "# Parameters relevant for later analysis.\n",
        "most_params = ['NY.GDP.COAL.RT.ZS', 'NY.GDP.NGAS.RT.ZS',\t'NY.GDP.PETR.RT.ZS', 'fossil_rent'] \\\n",
        "                + ['fossil_rent_log10', 'NY.GDP.PCAP.CD', 'gdp_log10'] \\\n",
        "                + ['score_awareness'] \\\n",
        "                + ['score_indiv_minus_collective'] \\\n",
        "                + list(awareness_questions_weights.keys()) \\\n",
        "                + list(propaganda_questions_weights.keys()) \\\n",
        "                + list(collective_action_questions_weights.keys())\n",
        "# Aggregated Scores\n",
        "score_cols = ['score_awareness', 'score_individual_action', 'score_collective_action', 'score_indiv_minus_collective']\n",
        "groupby_params = ['country_iso2', 'year']\n"
      ]
    },
    {
      "cell_type": "code",
      "execution_count": 16,
      "metadata": {},
      "outputs": [],
      "source": [
        "# We could multiply the regional weight factors but it has next to no impact (doesn't make a difference though and the code is less readable)...\n",
        "# adjusted = merged_df.groupby(['year', 'country_iso2']).apply(lambda x: np.ma.average(x['score_awareness'], weights=x['regional_weight_factor'], axis=0))\n",
        "# adjusted\n",
        "\n",
        "# Aggregate responses by country and year (because we don't have more fine-grained data on the economy-side).\n",
        "aggregated_scores = merged_df.groupby(groupby_params)[most_params].agg(np.nanmean)\n",
        "# Add fossil rent for country and year\n",
        "aggregated_scores['fossil_rent'] = merged_df.groupby(groupby_params)['fossil_rent'].first()\n",
        "# Drop values with missing target awareness\n",
        "aggregated_scores = aggregated_scores[aggregated_scores['score_awareness'].notna()]\n",
        "aggregated_scores = aggregated_scores.reset_index()"
      ]
    },
    {
      "cell_type": "markdown",
      "metadata": {},
      "source": [
        "The following shows the Development of several Indicators assessed to generate an aggregated \"climate awareness\" score."
      ]
    },
    {
      "cell_type": "code",
      "execution_count": null,
      "metadata": {},
      "outputs": [],
      "source": [
        "years = survey_df['year'].unique().sort_values()\n",
        "for question in (list(awareness_questions_weights.keys())):\n",
        "  mean_by_year = survey_df.groupby('year')[question].mean()\n",
        "  mean_by_year = mean_by_year.sort_index()\n",
        "  label = column_labels[question] or question\n",
        "  plt.plot(mean_by_year, label=label)\n",
        "\n",
        "plt.title(\"Support for statements about environment\")\n",
        "plt.xlabel(\"year (1993, 2000, 2010, 2020)\")\n",
        "plt.ylabel(\"Average, normalized response (-2 to 2)\")\n",
        "# help(plt.legend)\n",
        "plt.legend(loc=(0.1,0.45))"
      ]
    },
    {
      "cell_type": "markdown",
      "metadata": {},
      "source": [
        "### Correlation between different Indicators"
      ]
    },
    {
      "cell_type": "code",
      "execution_count": null,
      "metadata": {},
      "outputs": [],
      "source": [
        "# Show all correlation grid with pearson coefficients with pval < 0.05\n",
        "\n",
        "aggregated_scores.corr(method=lambda x,y: stats.pearsonr(x,y)[0] if stats.pearsonr(x,y)[1] < 0.05 else np.nan)[\n",
        "  ['NY.GDP.COAL.RT.ZS', 'NY.GDP.NGAS.RT.ZS', 'NY.GDP.PETR.RT.ZS', 'fossil_rent', 'fossil_rent_log10', 'NY.GDP.PCAP.CD', 'gdp_log10']]"
      ]
    },
    {
      "cell_type": "markdown",
      "metadata": {},
      "source": [
        "### Comparison of various other statistical methods"
      ]
    },
    {
      "cell_type": "code",
      "execution_count": null,
      "metadata": {},
      "outputs": [],
      "source": [
        "# The following assess different models to explain awareness by fossil rent and logged gdp.\n",
        "# The results show that there is no correlation (R² value below 0 for all tests).\n",
        "\n",
        "# Pycaret is a tool to that can compare statistical models and all sorts of nice things, e.g. visualizations.\n",
        "# In the following a set of models is assessed.\n",
        "import pycaret.regression as reg\n",
        "\n",
        "exp1 = reg.setup(\n",
        "  data=aggregated_scores[['fossil_rent_log10', 'score_awareness', 'gdp_log10']], # log(GDP per capita) is included as a control variable, as done by Knight (2018).\n",
        "  target='score_awareness',\n",
        ")\n",
        "\n",
        "# Don't use more than 12 seconds for evaluating a model.\n",
        "model = reg.compare_models(budget_time=0.2)\n",
        "# Show interactive dashboard about best model (e.g. prediction error and feature importance).\n",
        "# reg.evaluate_model(model)"
      ]
    },
    {
      "cell_type": "code",
      "execution_count": null,
      "metadata": {},
      "outputs": [],
      "source": [
        "def plot_regression(df, y_name, x_name, xlabel=\"\", ylabel=\"\", points_label=\"\"):\n",
        "\n",
        "\n",
        "    exp1 = reg.setup(\n",
        "        data=df[[x_name] + [y_name]],\n",
        "        target=y_name,\n",
        "    )\n",
        "    # Robust regression\n",
        "    model = reg.create_model('lr')\n",
        "\n",
        "    # Generate x-values for plotting\n",
        "    x_plot = np.linspace(df[x_name].min(), df[x_name], 100)\n",
        "\n",
        "    # Calculate the predicted y-values\n",
        "    df_new = pd.DataFrame(columns=[x_name])\n",
        "    df_new[x_name] = x_plot\n",
        "    y_plot = reg.predict_model(model, data=df_new)\n",
        "    \n",
        "    # Plot the data, regression line, and confidence interval\n",
        "    plt.scatter(df[y_name], df[x_name], label=points_label)\n",
        "    plt.plot(x_plot, y_plot, label='Regression line', color='red')\n",
        "    plt.xlabel(xlabel)\n",
        "    plt.ylabel(ylabel)\n",
        "    plt.title(f\"p-value = {reg.pvalue:.4f}\")\n",
        "    plt.legend()\n",
        "    plt.grid()\n",
        "    plt.show()\n",
        "\n",
        "\n",
        "\n",
        "plot_regression(\n",
        "    aggregated_scores,\n",
        "    y_name='science_solves_env_problems',\n",
        "    x_name='fossil_rent_log10',\n",
        "    xlabel = \"Fossil Rent as fraction of GDP (log10)\",\n",
        "    ylabel = \"Agree - Disagree: Science will solve environmental problems [-2,2]\",\n",
        "    points_label=\"Year-country observations\",\n",
        ")"
      ]
    },
    {
      "cell_type": "code",
      "execution_count": null,
      "metadata": {},
      "outputs": [],
      "source": [
        "# The following assess different models to explain awareness by fossil rent and logged gdp.,\n",
        "# The results show that there is no correlation (R² value below 0 for all tests).,\n",
        "\n",
        "# Pycaret is a tool to that can compare statistical models and all sorts of nice things, e.g. visualizations.,\n",
        "# In the following a set of models is assessed.,\n",
        "\n",
        "exp1 = reg.setup(\n",
        "  data=aggregated_scores[['fossil_rent', 'gdp_log10', 'science_solves_env_problems']], # log(GDP per capita) is included as a control variable, as done by Knight (2018).\n",
        "  target='science_solves_env_problems',\n",
        "  # numeric_features=['score_awareness', 'fossil_rent'],,\n",
        ")\n",
        "\n",
        "# Don't use more than 12 seconds for evaluating a model.,\n",
        "model = reg.compare_models(budget_time=0.2),\n",
        "# Show interactive dashboard about best model (e.g. prediction error and feature importance).,\n",
        "# reg.evaluate_model(model)\"\n"
      ]
    }
  ],
  "metadata": {
    "kernelspec": {
      "display_name": "myenv",
      "language": "python",
      "name": "python3"
    },
    "language_info": {
      "codemirror_mode": {
        "name": "ipython",
        "version": 3
      },
      "file_extension": ".py",
      "mimetype": "text/x-python",
      "name": "python",
      "nbconvert_exporter": "python",
      "pygments_lexer": "ipython3",
      "version": "3.11.11"
    }
  },
  "nbformat": 4,
  "nbformat_minor": 2
}
